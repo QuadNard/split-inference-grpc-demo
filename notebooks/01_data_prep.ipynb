{
 "cells": [
  {
   "cell_type": "markdown",
   "id": "9abcc456",
   "metadata": {},
   "source": [
    "# 01 – Data Preparation\n",
    "\n",
    "Generate or load a dummy dataset of shape `[sample_id, timestep, throughput]`,\n",
    "with exactly `seq_len + 1` rows per sample for feature+target.\n"
   ]
  },
  {
   "cell_type": "code",
   "execution_count": null,
   "id": "23332cfe",
   "metadata": {},
   "outputs": [],
   "source": [
    "# 1) Imports\n",
    "import pandas as pd\n",
    "import numpy as np\n",
    "import matplotlib.pyplot as plt\n",
    "from scripts.prepare_data import generate_dummy"
   ]
  },
  {
   "cell_type": "markdown",
   "id": "5d678c2e",
   "metadata": {},
   "source": [
    "## 2 – Generate Dummy Data In-Memory\n"
   ]
  },
  {
   "cell_type": "code",
   "execution_count": null,
   "id": "65aca932",
   "metadata": {},
   "outputs": [],
   "source": [
    "SEQ_LEN = 10\n",
    "NUM_SAMPLES = 50\n",
    "\n",
    "df = generate_dummy(num_samples=NUM_SAMPLES, seq_len=SEQ_LEN)\n",
    "print(df.head(12))  # show first sample_id’s seq_len+1 rows\n"
   ]
  },
  {
   "cell_type": "markdown",
   "id": "cb457e80",
   "metadata": {},
   "source": [
    "## 3 – Inspect Sequence Length\n"
   ]
  },
  {
   "cell_type": "code",
   "execution_count": null,
   "id": "0cb97265",
   "metadata": {},
   "outputs": [],
   "source": [
    "# verify each sample has seq_len+1 rows\n",
    "group = df.groupby(\"sample_id\").size()\n",
    "print(\"Unique counts per sample_id:\", group.unique())\n"
   ]
  },
  {
   "cell_type": "markdown",
   "id": "b1aff105",
   "metadata": {},
   "source": [
    "## 4 – Quick Plot of Throughput Trace (sample 0)\n"
   ]
  },
  {
   "cell_type": "code",
   "execution_count": null,
   "id": "f1069b57",
   "metadata": {},
   "outputs": [],
   "source": [
    "sample0 = df[df.sample_id == 0]\n",
    "plt.plot(sample0.timestep, sample0.throughput)\n",
    "plt.xlabel(\"Timestep\")\n",
    "plt.ylabel(\"Throughput\")\n",
    "plt.title(f\"Dummy Throughput Trace (sample 0, length={SEQ_LEN+1})\")\n",
    "plt.show()\n"
   ]
  },
  {
   "cell_type": "markdown",
   "id": "84e8c04b",
   "metadata": {},
   "source": [
    "## 5 – Save to Parquet via CLI\n"
   ]
  },
  {
   "cell_type": "code",
   "execution_count": null,
   "id": "b94ecbfe",
   "metadata": {
    "vscode": {
     "languageId": "shellscript"
    }
   },
   "outputs": [],
   "source": [
    "# In Colab or Jupyter shell\n",
    "!python scripts/prepare_data.py --dummy \\\n",
    "    --num-samples 50 \\\n",
    "    --seq-len 10 \\\n",
    "    --output data/training_data.parquet\n"
   ]
  },
  {
   "cell_type": "markdown",
   "id": "d6820731",
   "metadata": {},
   "source": [
    "## 6 – Load & Verify Parquet\n"
   ]
  },
  {
   "cell_type": "code",
   "execution_count": null,
   "id": "997c26db",
   "metadata": {},
   "outputs": [],
   "source": [
    "df2 = pd.read_parquet(\"data/training_data.parquet\")\n",
    "print(\"Loaded parquet, shape:\", df2.shape)\n",
    "print(df2.groupby(\"sample_id\").size().unique())\n",
    "df2.sample(5)\n"
   ]
  }
 ],
 "metadata": {
  "language_info": {
   "name": "python"
  }
 },
 "nbformat": 4,
 "nbformat_minor": 5
}
